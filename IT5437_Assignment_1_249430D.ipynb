{
  "nbformat": 4,
  "nbformat_minor": 0,
  "metadata": {
    "colab": {
      "provenance": []
    },
    "kernelspec": {
      "name": "python3",
      "display_name": "Python 3"
    },
    "language_info": {
      "name": "python"
    }
  },
  "cells": [
    {
      "cell_type": "code",
      "execution_count": 2,
      "metadata": {
        "id": "7sR9B9Q1RRbK"
      },
      "outputs": [],
      "source": [
        "import pandas"
      ]
    }
  ]
}